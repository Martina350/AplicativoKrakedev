{
  "nbformat": 4,
  "nbformat_minor": 0,
  "metadata": {
    "colab": {
      "provenance": [],
      "gpuType": "T4",
      "toc_visible": true,
      "authorship_tag": "ABX9TyNyS0JIs5U0gWVq0Xkt/1vn",
      "include_colab_link": true
    },
    "kernelspec": {
      "name": "python3",
      "display_name": "Python 3"
    },
    "language_info": {
      "name": "python"
    },
    "accelerator": "GPU"
  },
  "cells": [
    {
      "cell_type": "markdown",
      "metadata": {
        "id": "view-in-github",
        "colab_type": "text"
      },
      "source": [
        "<a href=\"https://colab.research.google.com/github/Martina350/AplicativoKrakedev/blob/master/Analisis_de_Ventas.ipynb\" target=\"_parent\"><img src=\"https://colab.research.google.com/assets/colab-badge.svg\" alt=\"Open In Colab\"/></a>"
      ]
    },
    {
      "cell_type": "code",
      "source": [
        "import numpy as np\n",
        "\n",
        "data = np.array([\n",
        "    [30, 50, 10, 20],\n",
        "    [20, 70, 5, 30],\n",
        "    [50, 20, 15, 10],\n",
        "    [15, 60, 10, 40],\n",
        "    [10, 150, 25, 60],\n",
        "    [25, 200, 10, 80],\n",
        "    [40, 30, 0, 15],\n",
        "    [35, 120, 5, 50],\n",
        "    [45, 60, 20, 25],\n",
        "    [50, 90, 30, 35],\n",
        "    [60, 110, 15, 45],\n",
        "    [30, 80, 5, 20],\n",
        "    [25, 50, 0, 20],\n",
        "    [40, 150, 0, 60],\n",
        "    [55, 60, 10, 25],\n",
        "    [35, 70, 10, 35],\n",
        "    [45, 100, 20, 45],\n",
        "    [50, 120, 15, 40],\n",
        "    [60, 80, 10, 50],\n",
        "    [30, 150, 25, 55]\n",
        "])\n",
        "\n",
        "cantidad_vendida = data[:, 0]\n",
        "precio_unitario = data[:, 1]\n",
        "descuento = data[:, 2]\n",
        "costo_produccion = data[:, 3]\n",
        "\n",
        "ingreso_producto = cantidad_vendida * precio_unitario * (1 - descuento/100)\n",
        "print(\"CALCULO DE INGRESO TOTAL POR PRODUCTO: \", ingreso_producto)\n",
        "\n",
        "ingreso_total_global = np.sum(ingreso_producto)\n",
        "print(\"CALCULO DE INGRESO TOTAL GLOBAL: \", ingreso_total_global)\n",
        "\n",
        "costo_total_produccion = cantidad_vendida * costo_produccion\n",
        "print(\"CALCULO DEL COSTO TOTAL DE PRODUCCION: \", costo_total_produccion)\n",
        "\n",
        "ganancia_bruta_producto = ingreso_producto - costo_total_produccion\n",
        "print(\"CALCULO DE LA GANACIA BRUTA POR PRODUCTO: \", ganancia_bruta_producto)\n",
        "\n",
        "ganancia_bruta_total = np.sum(ganancia_bruta_producto)\n",
        "print(\"CALCULO DE LA GANANCIA BRUTA TOTAL: \", ganancia_bruta_total)\n",
        "\n",
        "ingreso_promedio_producto = ingreso_total_global / data.shape[0]\n",
        "print(\"CALCULO DEL INGRESO PROMEDIO POR PRODUCTO: \", ingreso_promedio_producto)\n",
        "\n",
        "precio_promedio_producto = np.mean(precio_unitario)\n",
        "print(\"CALCULO DEL PRECIO PROMEDIO POR PRODUCTO: \", precio_promedio_producto)\n",
        "\n",
        "producto_mas_rentable = np.argmax(ingreso_producto) + 1\n",
        "print(\"IDENTIFICAR EL PRODUCTO MÁS RENTABLE: \", producto_mas_rentable)\n",
        "\n",
        "producto_mayor_ganancia = np.argmax(ganancia_bruta_producto) + 1\n",
        "print(\"IDENTIFICAR EL PRODUCTO CON MAYOR GANANCIA BRUTA: \", producto_mayor_ganancia)\n",
        "\n",
        "suma_cantidades = np.sum(cantidad_vendida)\n",
        "print(\"SUMA DE CANTIDADES VENDIDAS: \", suma_cantidades)\n",
        "\n",
        "promedio_descuento = np.mean(descuento)\n",
        "print(\"PROMEDIO DE DESCUENTO POR PRODUCTO: \", promedio_descuento)\n",
        "\n",
        "suma_costos_produccion = np.sum(costo_total_produccion)\n",
        "print(\"SUMA DE COSTOS DE PRODUCCIÓN: \", suma_costos_produccion)\n",
        "\n",
        "porcentaje_ingreso_sobre_costo = (ingreso_total_global / suma_costos_produccion) * 100\n",
        "print(\"PORCENTAJE DE INGRESO TOTAL SOBRE EL COSTO TOTAL DE PRODUCCIÓN: \", porcentaje_ingreso_sobre_costo, \"%\")\n",
        "\n",
        "rentabilidad = ganancia_bruta_total / ingreso_total_global\n",
        "print(\"CÁLCULO DE LA RENTABILIDAD DE LA TIENDA: \", rentabilidad)\n"
      ],
      "metadata": {
        "colab": {
          "base_uri": "https://localhost:8080/"
        },
        "id": "036DMi8CiCmL",
        "outputId": "34b23b0a-3262-4ffd-f26f-143673e06a83"
      },
      "execution_count": 8,
      "outputs": [
        {
          "output_type": "stream",
          "name": "stdout",
          "text": [
            "CALCULO DE INGRESO TOTAL POR PRODUCTO:  [1350. 1330.  850.  810. 1125. 4500. 1200. 3990. 2160. 3150. 5610. 2280.\n",
            " 1250. 6000. 2970. 2205. 3600. 5100. 4320. 3375.]\n",
            "CALCULO DE INGRESO TOTAL GLOBAL:  57175.0\n",
            "CALCULO DEL COSTO TOTAL DE PRODUCCION:  [ 600  600  500  600  600 2000  600 1750 1125 1750 2700  600  500 2400\n",
            " 1375 1225 2025 2000 3000 1650]\n",
            "CALCULO DE LA GANACIA BRUTA POR PRODUCTO:  [ 750.  730.  350.  210.  525. 2500.  600. 2240. 1035. 1400. 2910. 1680.\n",
            "  750. 3600. 1595.  980. 1575. 3100. 1320. 1725.]\n",
            "CALCULO DE LA GANANCIA BRUTA TOTAL:  29575.0\n",
            "CALCULO DEL INGRESO PROMEDIO POR PRODUCTO:  2858.75\n",
            "CALCULO DEL PRECIO PROMEDIO POR PRODUCTO:  91.0\n",
            "IDENTIFICAR EL PRODUCTO MÁS RENTABLE:  14\n",
            "IDENTIFICAR EL PRODUCTO CON MAYOR GANANCIA BRUTA:  14\n",
            "SUMA DE CANTIDADES VENDIDAS:  750\n",
            "PROMEDIO DE DESCUENTO POR PRODUCTO:  12.0\n",
            "SUMA DE COSTOS DE PRODUCCIÓN:  27600\n",
            "PORCENTAJE DE INGRESO TOTAL SOBRE EL COSTO TOTAL DE PRODUCCIÓN:  207.15579710144928 %\n",
            "CÁLCULO DE LA RENTABILIDAD DE LA TIENDA:  0.5172715347616965\n"
          ]
        }
      ]
    }
  ]
}